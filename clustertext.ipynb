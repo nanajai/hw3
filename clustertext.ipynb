{
 "cells": [
  {
   "cell_type": "code",
   "execution_count": 92,
   "metadata": {
    "collapsed": true,
    "scrolled": true
   },
   "outputs": [],
   "source": [
    "import numpy as np\n",
    "from sklearn.cluster import KMeans\n",
    "import matplotlib.pyplot as plt\n",
    "\n",
    "#Load normalized data into data variable\n",
    "dw_data = np.load(\"science2k-doc-word.npy\")\n",
    "wd_data = np.load(\"science2k-word-doc.npy\")\n",
    "\n",
    "def generate_elbow_graph(data):\n",
    "    #Using elbow method : https://bl.ocks.org/rpgove/0060ff3b656618e9136b\n",
    "    sse= {}\n",
    "    for i in range(2,21):\n",
    "        model = KMeans(n_clusters=i)\n",
    "        model.fit(data)\n",
    "        sse[i] = model.inertia_\n",
    "    sse\n",
    "    sse_tuples = sorted(sse.items()) \n",
    "    x, y = zip(*sse_tuples) #retrieve x,y values\n",
    "\n",
    "    plt.plot(x, y, marker='x')\n",
    "    plt.show()\n",
    "\n",
    "    \n",
    "def find_closest_points(num_means, data):\n",
    "    model = KMeans(n_clusters=num_means)\n",
    "    model.fit(data)\n",
    "\n",
    "    closest_points = {}\n",
    "    for i in range(0,num_means):\n",
    "        distances = model.transform(data)[:,i]\n",
    "        indices = np.argsort(distances)[::][:10]\n",
    "        closest_points[i] = indices\n",
    "\n",
    "    return closest_points\n",
    "\n",
    "def get_output_labels(filename,closest_points):\n",
    "    output = []\n",
    "    with open(filename) as f:\n",
    "        output = f.read().splitlines() \n",
    "\n",
    "    output_dict = {}\n",
    "    for i in range(0,len(closest_points.keys())):\n",
    "        output_dict[i] = []\n",
    "        for j in closest_points[i]:\n",
    "            output_dict[i].append(output[j])\n",
    "            \n",
    "    return output_dict"
   ]
  },
  {
   "cell_type": "code",
   "execution_count": null,
   "metadata": {
    "collapsed": true
   },
   "outputs": [],
   "source": []
  },
  {
   "cell_type": "code",
   "execution_count": 78,
   "metadata": {},
   "outputs": [
    {
     "data": {
      "image/png": "[encoded data removed]",
      "text/plain": [
       "<matplotlib.figure.Figure at 0x129fe9828>"
      ]
     },
     "metadata": {},
     "output_type": "display_data"
    }
   ],
   "source": [
    "generate_elbow_graph(dw_data)"
   ]
  },
  {
   "cell_type": "code",
   "execution_count": 88,
   "metadata": {
    "collapsed": true
   },
   "outputs": [],
   "source": [
    "dw_closest_points = find_closest_points(8,dw_data)\n",
    "\n",
    "#Using elbow method we can see that the best mean is for k values between 6 and 8\n",
    "#We choose k=8"
   ]
  },
  {
   "cell_type": "code",
   "execution_count": 93,
   "metadata": {},
   "outputs": [
    {
     "data": {
      "text/plain": [
       "{0: ['\"Inhibition of Eukaryotic DNA Replication by Geminin Binding to Cdt1\"',\n",
       "  '\"Activation of the DNA Replication Checkpoint through RNA Synthesis by Primase\"',\n",
       "  '\"Rab1 Recruitment of p115 into a cis-SNARE Complex: Programming Budding COPII Vesicles for Fusion\"',\n",
       "  '\"Distinct Classes of Yeast Promoters Revealed by Differential TAF Recruitment\"',\n",
       "  '\"Suppression of Mutations in Mitochondrial DNA by tRNAs Imported from the Cytoplasm\"',\n",
       "  '\"ER-to-Golgi Traffic: This Bud\\'s for You\"',\n",
       "  '\"Active Remodeling of Somatic Nuclei in Egg Cytoplasm by the Nucleosomal ATPase ISWI\"',\n",
       "  '\"Replication Meets Cohesion\"',\n",
       "  '\"Coupling of Stress in the ER to Activation of JNK Protein Kinases by Transmembrane Protein Kinase IRE1\"',\n",
       "  '\"Thermal, Catalytic, Regiospecific Functionalization of Alkanes\"'],\n",
       " 1: ['\"Algorithmic Gladiators Vie for Digital Glory\"',\n",
       "  '\"Information Technology Takes a Different Tack\"',\n",
       "  '\"Reopening the Darkest Chapter in German Science\"',\n",
       "  '\"Archaeology in the Holy Land\"',\n",
       "  '\"Science Survives in Breakthrough States\"',\n",
       "  '\"Heretical Idea Faces Its Sternest Test\"',\n",
       "  '\"National Academy of Sciences Elects New Members\"',\n",
       "  '\"Baedeker\\'s Guide, or Just Plain \\'Trouble\\'?\"',\n",
       "  '\"Divining Diet and Disease from DNA\"',\n",
       "  '\"Vaccine Studies Stymied by Shortage of Animals\"'],\n",
       " 2: ['\"Requirement of NAD and SIR2 for Life-Span Extension by Calorie Restriction in Saccharomyces Cerevisiae\"',\n",
       "  '\"Suppression of Mutations in Mitochondrial DNA by tRNAs Imported from the Cytoplasm\"',\n",
       "  '\"Distinct Classes of Yeast Promoters Revealed by Differential TAF Recruitment\"',\n",
       "  '\"Similar Requirements of a Plant Symbiont and a Mammalian Pathogen for Prolonged Intracellular Survival\"',\n",
       "  '\"Algorithmic Gladiators Vie for Digital Glory\"',\n",
       "  '\"Mothers Setting Boundaries\"',\n",
       "  '\"Thermal, Catalytic, Regiospecific Functionalization of Alkanes\"',\n",
       "  '\"An Arresting Start for MAPK\"',\n",
       "  '\"Turning up the Heat on Histoplasma capsulatum\"',\n",
       "  '\"Reopening the Darkest Chapter in German Science\"'],\n",
       " 3: ['\"The Formation of Chondrules at High Gas Pressures in the Solar Nebula\"',\n",
       "  '\"Algorithmic Gladiators Vie for Digital Glory\"',\n",
       "  '\"Information Storage and Retrieval through Quantum Phase\"',\n",
       "  '\"Thermal, Catalytic, Regiospecific Functionalization of Alkanes\"',\n",
       "  '\"Heretical Idea Faces Its Sternest Test\"',\n",
       "  '\"Reopening the Darkest Chapter in German Science\"',\n",
       "  '\"Quantum Dots as Tunable Kondo Impurities\"',\n",
       "  '\"Synthesis and Characterization of Helical Multi-Shell Gold Nanowires\"',\n",
       "  '\"A Monoclinic Post-Stishovite Polymorph of Silica in the Shergotty Meteorite\"',\n",
       "  '\"Ambipolar Pentacene Field-Effect Transistors and Inverters\"'],\n",
       " 4: ['\"Algorithmic Gladiators Vie for Digital Glory\"',\n",
       "  '\"Reopening the Darkest Chapter in German Science\"',\n",
       "  '\"National Academy of Sciences Elects New Members\"',\n",
       "  '\"Corrections and Clarifications: A Short Fe-Fe Distance in Peroxodiferric Ferritin: Control of Fe Substrate versus Cofactor Decay?\"',\n",
       "  '\"Corrections and Clarifications: Charon\\'s First Detailed Spectra Hold Many Surprises\"',\n",
       "  '\"Corrections and Clarifications: Unearthing Monuments of the Yarmukians\"',\n",
       "  '\"Heretical Idea Faces Its Sternest Test\"',\n",
       "  '\"Archaeology in the Holy Land\"',\n",
       "  '\"Information Technology Takes a Different Tack\"',\n",
       "  '\"Corrections and Clarifications: A Nuclear Solution to Climatic Change?\"'],\n",
       " 5: ['\"Population Dynamical Consequences of Climate Change for a Small Temperate Songbird\"',\n",
       "  '\"The Formation of Chondrules at High Gas Pressures in the Solar Nebula\"',\n",
       "  '\"Subducted Seamount Imaged in the Rupture Zone of the 1946 Nankaido Earthquake\"',\n",
       "  '\"Reopening the Darkest Chapter in German Science\"',\n",
       "  '\"Greenland Ice Sheet: High-Elevation Balance and Peripheral Thinning\"',\n",
       "  '\"Reconstruction of the Amazon Basin Effective Moisture Availability over the past 14,000 Years\"',\n",
       "  '\"Tectonic Implications of U-Pb Zircon Ages of the Himalayan Orogenic Belt in Nepal\"',\n",
       "  '\"Algorithmic Gladiators Vie for Digital Glory\"',\n",
       "  '\"Nitric Acid Trihydrate (NAT) in Polar Stratospheric Clouds\"',\n",
       "  '\"The Amazon Reveals Its Secrets: Partly\"'],\n",
       " 6: ['\"Ubiquitination: More Than Two to Tango\"',\n",
       "  '\"On the Ancestry of Barrels\"',\n",
       "  '\"Thermal, Catalytic, Regiospecific Functionalization of Alkanes\"',\n",
       "  '\"Algorithmic Gladiators Vie for Digital Glory\"',\n",
       "  '\"Requirement of NAD and SIR2 for Life-Span Extension by Calorie Restriction in Saccharomyces Cerevisiae\"',\n",
       "  '\"Scientists at Brookhaven\"',\n",
       "  '\"L1 Retrotransposons Shape the Mammalian Genome\"',\n",
       "  '\"Replication Meets Cohesion\"',\n",
       "  '\"Annotation of the Human Genome\"',\n",
       "  '\"ER-to-Golgi Traffic: This Bud\\'s for You\"'],\n",
       " 7: ['\"Algorithmic Gladiators Vie for Digital Glory\"',\n",
       "  '\"Reopening the Darkest Chapter in German Science\"',\n",
       "  '\"Heretical Idea Faces Its Sternest Test\"',\n",
       "  '\"Movement Patterns in Spoken Language\"',\n",
       "  '\"Thermal, Catalytic, Regiospecific Functionalization of Alkanes\"',\n",
       "  '\"Corrections and Clarifications: Unearthing Monuments of the Yarmukians\"',\n",
       "  '\"Corrections and Clarifications: Charon\\'s First Detailed Spectra Hold Many Surprises\"',\n",
       "  '\"Corrections and Clarifications: A Short Fe-Fe Distance in Peroxodiferric Ferritin: Control of Fe Substrate versus Cofactor Decay?\"',\n",
       "  '\"Divining Diet and Disease from DNA\"',\n",
       "  '\"Archaeology in the Holy Land\"']}"
      ]
     },
     "execution_count": 93,
     "metadata": {},
     "output_type": "execute_result"
    }
   ],
   "source": [
    "#Load titles  into title variable\n",
    "title_dict = get_output_labels('science2k-titles.txt',dw_closest_points)\n",
    "title_dict\n"
   ]
  },
  {
   "cell_type": "code",
   "execution_count": 81,
   "metadata": {},
   "outputs": [
    {
     "data": {
      "image/png": "[encoded data removed]",
      "text/plain": [
       "<matplotlib.figure.Figure at 0x1264cea90>"
      ]
     },
     "metadata": {},
     "output_type": "display_data"
    }
   ],
   "source": [
    "generate_elbow_graph(wd_data)\n"
   ]
  },
  {
   "cell_type": "code",
   "execution_count": 64,
   "metadata": {},
   "outputs": [
    {
     "data": {
      "text/plain": [
       "{0: ['\"Requirement of NAD and SIR2 for Life-Span Extension by Calorie Restriction in Saccharomyces Cerevisiae\"',\n",
       "  '\"Suppression of Mutations in Mitochondrial DNA by tRNAs Imported from the Cytoplasm\"',\n",
       "  '\"Algorithmic Gladiators Vie for Digital Glory\"',\n",
       "  '\"Thermal, Catalytic, Regiospecific Functionalization of Alkanes\"',\n",
       "  '\"Reopening the Darkest Chapter in German Science\"',\n",
       "  '\"Similar Requirements of a Plant Symbiont and a Mammalian Pathogen for Prolonged Intracellular Survival\"',\n",
       "  '\"Distinct Classes of Yeast Promoters Revealed by Differential TAF Recruitment\"',\n",
       "  '\"Turning up the Heat on Histoplasma capsulatum\"',\n",
       "  '\"Mothers Setting Boundaries\"',\n",
       "  '\"An Arresting Start for MAPK\"'],\n",
       " 1: ['\"The Mouse House as a Recruiting Tool\"',\n",
       "  '\"Information Technology Takes a Different Tack\"',\n",
       "  '\"Reopening the Darkest Chapter in German Science\"',\n",
       "  '\"Vaccine Studies Stymied by Shortage of Animals\"',\n",
       "  '\"Algorithmic Gladiators Vie for Digital Glory\"',\n",
       "  '\"The Boom in Biosafety Labs\"',\n",
       "  '\"National Academy of Sciences Elects New Members\"',\n",
       "  '\"Archaeology in the Holy Land\"',\n",
       "  '\"Science Survives in Breakthrough States\"',\n",
       "  '\"Flushing out Nasty Viruses in the Balkans\"'],\n",
       " 2: ['\"Population Dynamical Consequences of Climate Change for a Small Temperate Songbird\"',\n",
       "  '\"Reopening the Darkest Chapter in German Science\"',\n",
       "  '\"Reconstruction of the Amazon Basin Effective Moisture Availability over the past 14,000 Years\"',\n",
       "  '\"Algorithmic Gladiators Vie for Digital Glory\"',\n",
       "  '\"Homogenization of Fish Faunas across the United States\"',\n",
       "  '\"Temperature Oscillations in the North Atlantic\"',\n",
       "  '\"The Amazon Reveals Its Secrets: Partly\"',\n",
       "  '\"Trans-Pacific Air Pollution\"',\n",
       "  '\"Greenland Ice Sheet: High-Elevation Balance and Peripheral Thinning\"',\n",
       "  '\"A Benefit of Being Big\"'],\n",
       " 3: ['\"The Formation of Chondrules at High Gas Pressures in the Solar Nebula\"',\n",
       "  '\"Subducted Seamount Imaged in the Rupture Zone of the 1946 Nankaido Earthquake\"',\n",
       "  '\"Clues from a Shocked Meteorite\"',\n",
       "  '\"Earth\\'s Enigmatic Interface\"',\n",
       "  '\"Tectonic Implications of U-Pb Zircon Ages of the Himalayan Orogenic Belt in Nepal\"',\n",
       "  '\"Into the Forbidden Zone\"',\n",
       "  '\"Heretical Idea Faces Its Sternest Test\"',\n",
       "  '\"Algorithmic Gladiators Vie for Digital Glory\"',\n",
       "  '\"Nitric Acid Trihydrate (NAT) in Polar Stratospheric Clouds\"',\n",
       "  '\"Reopening the Darkest Chapter in German Science\"'],\n",
       " 4: ['\"The Formation of Chondrules at High Gas Pressures in the Solar Nebula\"',\n",
       "  '\"Algorithmic Gladiators Vie for Digital Glory\"',\n",
       "  '\"Reopening the Darkest Chapter in German Science\"',\n",
       "  '\"Thermal, Catalytic, Regiospecific Functionalization of Alkanes\"',\n",
       "  '\"Information Storage and Retrieval through Quantum Phase\"',\n",
       "  '\"Heretical Idea Faces Its Sternest Test\"',\n",
       "  '\"Quantum Dots as Tunable Kondo Impurities\"',\n",
       "  '\"Synthesis and Characterization of Helical Multi-Shell Gold Nanowires\"',\n",
       "  '\"A Monoclinic Post-Stishovite Polymorph of Silica in the Shergotty Meteorite\"',\n",
       "  '\"Ambipolar Pentacene Field-Effect Transistors and Inverters\"'],\n",
       " 5: ['\"Information Technology Takes a Different Tack\"',\n",
       "  '\"Algorithmic Gladiators Vie for Digital Glory\"',\n",
       "  '\"Reopening the Darkest Chapter in German Science\"',\n",
       "  '\"Archaeology in the Holy Land\"',\n",
       "  '\"Heretical Idea Faces Its Sternest Test\"',\n",
       "  '\"National Academy of Sciences Elects New Members\"',\n",
       "  '\"Baedeker\\'s Guide, or Just Plain \\'Trouble\\'?\"',\n",
       "  '\"Science Survives in Breakthrough States\"',\n",
       "  '\"Divining Diet and Disease from DNA\"',\n",
       "  '\"Vaccine Studies Stymied by Shortage of Animals\"'],\n",
       " 6: ['\"Ubiquitination: More Than Two to Tango\"',\n",
       "  '\"On the Ancestry of Barrels\"',\n",
       "  '\"Thermal, Catalytic, Regiospecific Functionalization of Alkanes\"',\n",
       "  '\"Algorithmic Gladiators Vie for Digital Glory\"',\n",
       "  '\"Requirement of NAD and SIR2 for Life-Span Extension by Calorie Restriction in Saccharomyces Cerevisiae\"',\n",
       "  '\"Replication Meets Cohesion\"',\n",
       "  '\"L1 Retrotransposons Shape the Mammalian Genome\"',\n",
       "  '\"Scientists at Brookhaven\"',\n",
       "  '\"New Insights into an Old Modification\"',\n",
       "  '\"ER-to-Golgi Traffic: This Bud\\'s for You\"'],\n",
       " 7: ['\"Algorithmic Gladiators Vie for Digital Glory\"',\n",
       "  '\"Reopening the Darkest Chapter in German Science\"',\n",
       "  '\"National Academy of Sciences Elects New Members\"',\n",
       "  '\"Corrections and Clarifications: Unearthing Monuments of the Yarmukians\"',\n",
       "  '\"Corrections and Clarifications: Charon\\'s First Detailed Spectra Hold Many Surprises\"',\n",
       "  '\"Corrections and Clarifications: A Short Fe-Fe Distance in Peroxodiferric Ferritin: Control of Fe Substrate versus Cofactor Decay?\"',\n",
       "  '\"Heretical Idea Faces Its Sternest Test\"',\n",
       "  '\"Archaeology in the Holy Land\"',\n",
       "  '\"Movement Patterns in Spoken Language\"',\n",
       "  '\"Corrections and Clarifications: Uninterrupted MCM2-7 Function Required for DNA Replication Fork Progression\"']}"
      ]
     },
     "execution_count": 64,
     "metadata": {},
     "output_type": "execute_result"
    }
   ],
   "source": [
    "wd_closest_points = find_closest_points(8,wd_data)\n"
   ]
  },
  {
   "cell_type": "code",
   "execution_count": 94,
   "metadata": {
    "scrolled": true
   },
   "outputs": [
    {
     "data": {
      "text/plain": [
       "{0: ['nitrogen',\n",
       "  'fault',\n",
       "  'organic',\n",
       "  'transgenic',\n",
       "  'exhibit',\n",
       "  'staining',\n",
       "  'dendrites',\n",
       "  'needed',\n",
       "  'animals',\n",
       "  'cross'],\n",
       " 1: ['expressing',\n",
       "  'release',\n",
       "  'volume',\n",
       "  'fig',\n",
       "  'width',\n",
       "  'right',\n",
       "  'mediated',\n",
       "  'cells',\n",
       "  'land',\n",
       "  'obtained'],\n",
       " 2: ['hand',\n",
       "  'exhibit',\n",
       "  'transgenic',\n",
       "  'class',\n",
       "  'expressing',\n",
       "  'able',\n",
       "  'cross',\n",
       "  'detect',\n",
       "  'clock',\n",
       "  'volume'],\n",
       " 3: ['tail',\n",
       "  'expressing',\n",
       "  'nature',\n",
       "  'cross',\n",
       "  'right',\n",
       "  'volume',\n",
       "  'fish',\n",
       "  'nuclei',\n",
       "  'product',\n",
       "  'gfp'],\n",
       " 4: ['expressing',\n",
       "  'volume',\n",
       "  'mediated',\n",
       "  'states',\n",
       "  'receptor',\n",
       "  'described',\n",
       "  'right',\n",
       "  'fig',\n",
       "  'release',\n",
       "  'recognition'],\n",
       " 5: ['second',\n",
       "  'tail',\n",
       "  'requires',\n",
       "  'volume',\n",
       "  'fluid',\n",
       "  'proliferation',\n",
       "  'complexes',\n",
       "  'expressing',\n",
       "  'trend',\n",
       "  'cycles'],\n",
       " 6: ['circadian',\n",
       "  'monkeys',\n",
       "  'cross',\n",
       "  'expressing',\n",
       "  'hand',\n",
       "  'distance',\n",
       "  'act',\n",
       "  'needed',\n",
       "  'velocity',\n",
       "  'staining'],\n",
       " 7: ['expressing',\n",
       "  'volume',\n",
       "  'right',\n",
       "  'defined',\n",
       "  'cross',\n",
       "  'described',\n",
       "  'receptor',\n",
       "  'states',\n",
       "  'land',\n",
       "  'fig']}"
      ]
     },
     "execution_count": 94,
     "metadata": {},
     "output_type": "execute_result"
    }
   ],
   "source": [
    "#Load vocab into vocab dict\n",
    "vocab_dict = get_output_labels('science2k-vocab.txt',dw_closest_points)\n",
    "vocab_dict"
   ]
  }
 ],
 "metadata": {
  "kernelspec": {
   "display_name": "Python 3",
   "language": "python",
   "name": "python3"
  },
  "language_info": {
   "codemirror_mode": {
    "name": "ipython",
    "version": 3
   },
   "file_extension": ".py",
   "mimetype": "text/x-python",
   "name": "python",
   "nbconvert_exporter": "python",
   "pygments_lexer": "ipython3",
   "version": "3.6.1"
  }
 },
 "nbformat": 4,
 "nbformat_minor": 2
}
